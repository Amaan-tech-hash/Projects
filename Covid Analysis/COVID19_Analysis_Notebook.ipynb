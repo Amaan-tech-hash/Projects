{
 "cells": [
  {
   "cell_type": "markdown",
   "id": "cb2bbfd5",
   "metadata": {},
   "source": [
    "# COVID-19 Data Analysis"
   ]
  },
  {
   "cell_type": "markdown",
   "id": "27482571",
   "metadata": {},
   "source": [
    "This notebook analyzes COVID-19 impacts using a dataset containing global case and death data."
   ]
  },
  {
   "cell_type": "code",
   "execution_count": null,
   "id": "c8a48e02",
   "metadata": {},
   "outputs": [],
   "source": [
    "\n",
    "import pandas as pd\n",
    "import matplotlib.pyplot as plt\n",
    "import seaborn as sns\n",
    "\n",
    "# Load the dataset\n",
    "file_path = 'COVID-19 Coronavirus.csv'\n",
    "data = pd.read_csv(file_path)\n",
    "\n",
    "# Summary statistics\n",
    "print(data.describe())\n",
    "\n",
    "# Cases and deaths by continent\n",
    "continent_impact = data.groupby('Continent')[['Total Cases', 'Total Deaths']].sum()\n",
    "continent_impact.plot(kind='bar', figsize=(10, 6))\n",
    "plt.title('COVID-19 Total Cases and Deaths by Continent')\n",
    "plt.ylabel('Count')\n",
    "plt.xlabel('Continent')\n",
    "plt.xticks(rotation=45)\n",
    "plt.show()\n",
    "\n",
    "# Correlation heatmap\n",
    "correlation_matrix = data.corr()\n",
    "sns.heatmap(correlation_matrix, annot=True, cmap='coolwarm', fmt=\".2f\", figsize=(8, 6))\n",
    "plt.title('Correlation Matrix')\n",
    "plt.show()\n",
    "    "
   ]
  },
  {
   "cell_type": "markdown",
   "id": "0e058058",
   "metadata": {},
   "source": [
    "## Key Findings"
   ]
  },
  {
   "cell_type": "markdown",
   "id": "54cf0376",
   "metadata": {},
   "source": [
    "\n",
    "1. **Summary Statistics**: \n",
    "   - Total cases range up to 81.8 million.\n",
    "   - Cases per million population show significant variation.\n",
    "\n",
    "2. **Continent Analysis**:\n",
    "   - Africa has the highest number of countries in the dataset (58).\n",
    "   - Total cases and deaths are higher in regions with larger populations and testing.\n",
    "\n",
    "3. **Correlation Insights**:\n",
    "   - Strong correlation between Total Cases and Total Deaths.\n",
    "   - Population shows a moderate correlation with cases and deaths.\n"
   ]
  }
 ],
 "metadata": {},
 "nbformat": 4,
 "nbformat_minor": 5
}
